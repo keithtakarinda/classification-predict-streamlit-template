{
 "cells": [
  {
   "cell_type": "code",
   "execution_count": 1,
   "metadata": {},
   "outputs": [],
   "source": [
    "import numpy as np\n",
    "import pandas as pd\n",
    "import matplotlib.pyplot as plt\n",
    "#import seaborn as sns\n",
    "import re\n",
    "%matplotlib inline\n",
    "import spacy\n",
    "import nltk\n",
    "import string\n"
   ]
  },
  {
   "cell_type": "code",
   "execution_count": 2,
   "metadata": {},
   "outputs": [],
   "source": [
    "nlp = spacy.load('en_core_web_md')"
   ]
  },
  {
   "cell_type": "code",
   "execution_count": 3,
   "metadata": {},
   "outputs": [],
   "source": [
    "train = pd.read_csv('train.csv')\n",
    "test = pd.read_csv('test.csv')"
   ]
  },
  {
   "cell_type": "code",
   "execution_count": 4,
   "metadata": {},
   "outputs": [],
   "source": [
    "from nltk.tokenize import word_tokenize\n",
    "from nltk.corpus import stopwords"
   ]
  },
  {
   "cell_type": "code",
   "execution_count": 5,
   "metadata": {},
   "outputs": [],
   "source": [
    "def removing_stopwords(post):\n",
    "    stop_words = set(stopwords.words('english'))  \n",
    "    word_tokens = word_tokenize(post) \n",
    "\n",
    "    filtered_sentence = [w for w in word_tokens if not w in stop_words] \n",
    "\n",
    "    filtered_sentence = [] \n",
    "\n",
    "    for w in word_tokens: \n",
    "        if w not in stop_words: \n",
    "            filtered_sentence.append(w)\n",
    "            # initialize an empty string \n",
    "    str1 = \" \"  \n",
    "    sentence = str1.join(filtered_sentence)\n",
    "    \n",
    "    # return string   \n",
    "    return sentence "
   ]
  },
  {
   "cell_type": "code",
   "execution_count": 6,
   "metadata": {},
   "outputs": [],
   "source": [
    "def remove_punctuation_numbers(post):\n",
    "    punc_numbers = string.punctuation + '0123456789'\n",
    "    return ''.join([l for l in post if l not in punc_numbers])"
   ]
  },
  {
   "cell_type": "code",
   "execution_count": 7,
   "metadata": {},
   "outputs": [],
   "source": [
    "def remove_urls(data):\n",
    "    pattern_url = r'http[s]?://(?:[A-Za-z]|[0-9]|[$-_@.&+]|[!*\\(\\),]|(?:%[0-9A-Fa-f][0-9A-Fa-f]))+'\n",
    "    subs_url = r'url-web'\n",
    "    data['message'] = data['message'].replace(to_replace = pattern_url, value = subs_url, regex = True)\n",
    "    return data"
   ]
  },
  {
   "cell_type": "code",
   "execution_count": 8,
   "metadata": {},
   "outputs": [],
   "source": [
    "def compound_column(data):\n",
    "    from nltk.sentiment.vader import SentimentIntensityAnalyzer\n",
    "    sid = SentimentIntensityAnalyzer()\n",
    "    data['scores'] = data['message'].apply(lambda message: sid.polarity_scores(message))\n",
    "    data['compound'] = data['scores'].apply(lambda d:d['compound'])\n",
    "    data = data.drop(['scores'],axis=1)\n",
    "    return data"
   ]
  },
  {
   "cell_type": "code",
   "execution_count": 9,
   "metadata": {},
   "outputs": [],
   "source": [
    "def length_of_message(data):\n",
    "    data['length'] = data['message'].apply(lambda x:len(x))\n",
    "    return data"
   ]
  },
  {
   "cell_type": "code",
   "execution_count": 10,
   "metadata": {},
   "outputs": [],
   "source": [
    "def metric_evaluation(y_test,predictions):\n",
    "    from sklearn.metrics import confusion_matrix,classification_report\n",
    "    cfn_m = confusion_matrix(y_test,predictions)\n",
    "    c_r = classification_report(y_test,predictions)\n",
    "    from sklearn import metrics\n",
    "    accuracy = metrics.accuracy_score(y_test,predictions)\n",
    "    print(cfn_m)\n",
    "    print(c_r)\n",
    "    print(accuracy)"
   ]
  },
  {
   "cell_type": "code",
   "execution_count": 11,
   "metadata": {},
   "outputs": [],
   "source": [
    "from sklearn.model_selection import train_test_split"
   ]
  },
  {
   "cell_type": "code",
   "execution_count": 32,
   "metadata": {},
   "outputs": [],
   "source": [
    "a = train.copy()\n",
    "a = remove_urls(a)\n",
    "a['message'] = a['message'].apply(remove_punctuation_numbers)\n",
    "a['message'] = a['message'].apply(removing_stopwords)\n"
   ]
  },
  {
   "cell_type": "code",
   "execution_count": 33,
   "metadata": {},
   "outputs": [
    {
     "data": {
      "text/html": [
       "<div>\n",
       "<style scoped>\n",
       "    .dataframe tbody tr th:only-of-type {\n",
       "        vertical-align: middle;\n",
       "    }\n",
       "\n",
       "    .dataframe tbody tr th {\n",
       "        vertical-align: top;\n",
       "    }\n",
       "\n",
       "    .dataframe thead th {\n",
       "        text-align: right;\n",
       "    }\n",
       "</style>\n",
       "<table border=\"1\" class=\"dataframe\">\n",
       "  <thead>\n",
       "    <tr style=\"text-align: right;\">\n",
       "      <th></th>\n",
       "      <th>sentiment</th>\n",
       "      <th>message</th>\n",
       "      <th>tweetid</th>\n",
       "    </tr>\n",
       "  </thead>\n",
       "  <tbody>\n",
       "    <tr>\n",
       "      <th>0</th>\n",
       "      <td>1</td>\n",
       "      <td>PolySciMajor EPA chief doesnt think carbon dio...</td>\n",
       "      <td>625221</td>\n",
       "    </tr>\n",
       "    <tr>\n",
       "      <th>1</th>\n",
       "      <td>1</td>\n",
       "      <td>Its like lack evidence anthropogenic global wa...</td>\n",
       "      <td>126103</td>\n",
       "    </tr>\n",
       "    <tr>\n",
       "      <th>2</th>\n",
       "      <td>2</td>\n",
       "      <td>RT RawStory Researchers say three years act cl...</td>\n",
       "      <td>698562</td>\n",
       "    </tr>\n",
       "    <tr>\n",
       "      <th>3</th>\n",
       "      <td>1</td>\n",
       "      <td>TodayinMaker WIRED pivotal year war climate ch...</td>\n",
       "      <td>573736</td>\n",
       "    </tr>\n",
       "    <tr>\n",
       "      <th>4</th>\n",
       "      <td>1</td>\n",
       "      <td>RT SoyNovioDeTodas Its racist sexist climate c...</td>\n",
       "      <td>466954</td>\n",
       "    </tr>\n",
       "  </tbody>\n",
       "</table>\n",
       "</div>"
      ],
      "text/plain": [
       "   sentiment                                            message  tweetid\n",
       "0          1  PolySciMajor EPA chief doesnt think carbon dio...   625221\n",
       "1          1  Its like lack evidence anthropogenic global wa...   126103\n",
       "2          2  RT RawStory Researchers say three years act cl...   698562\n",
       "3          1  TodayinMaker WIRED pivotal year war climate ch...   573736\n",
       "4          1  RT SoyNovioDeTodas Its racist sexist climate c...   466954"
      ]
     },
     "execution_count": 33,
     "metadata": {},
     "output_type": "execute_result"
    }
   ],
   "source": [
    "a.head()"
   ]
  },
  {
   "cell_type": "code",
   "execution_count": 30,
   "metadata": {},
   "outputs": [
    {
     "data": {
      "text/plain": [
       "'This test remove stop words'"
      ]
     },
     "execution_count": 30,
     "metadata": {},
     "output_type": "execute_result"
    }
   ],
   "source": [
    "removing_stopwords('This is a test to remove the stop words')"
   ]
  },
  {
   "cell_type": "code",
   "execution_count": 24,
   "metadata": {},
   "outputs": [
    {
     "data": {
      "text/plain": [
       "['This', 'is', 'a', 'test', 'to', 'remove', 'the', 'stop', 'words']"
      ]
     },
     "execution_count": 24,
     "metadata": {},
     "output_type": "execute_result"
    }
   ],
   "source": [
    "po = 'This is a test to remove the stop words'\n",
    "word_tokenize(po)"
   ]
  },
  {
   "cell_type": "code",
   "execution_count": 34,
   "metadata": {},
   "outputs": [],
   "source": [
    "X = a['message']\n",
    "y = a['sentiment']"
   ]
  },
  {
   "cell_type": "code",
   "execution_count": 35,
   "metadata": {},
   "outputs": [],
   "source": [
    "X_train, X_test, y_train, y_test=train_test_split(X,y,test_size=0.2,random_state=42)"
   ]
  },
  {
   "cell_type": "code",
   "execution_count": 49,
   "metadata": {},
   "outputs": [
    {
     "data": {
      "text/plain": [
       "6735     AlJazeera English HDLiveStreamClimate SOS Inno...\n",
       "13537    RT kylegriffin Tillerson moving eliminate leas...\n",
       "6876     RT nowthisnews Show terrifyingly alarming phot...\n",
       "10035    RT tpoliticalnews A majority Republicans House...\n",
       "5174     ClimateNPS MAN STUPID Ã¢â‚¬â€ A powerful musi...\n",
       "5001     Carbon dioxide biggest contributor global warm...\n",
       "6887     RT jwalkenrdc Scott Pruitt ’ office deluged an...\n",
       "4747     With crisis climate change comes incredible op...\n",
       "9473     RT juiceDiem Before I go bed If think flag bur...\n",
       "2133     arnoldcam VanJones reform combat climate chang...\n",
       "10565    RT SenSanders We presidentelect doesnÃ¢â‚¬â „ ...\n",
       "11723    Depression anxiety PTSD The mental impact clim...\n",
       "1626     It took degree temperature November ocean reef...\n",
       "5653     Pope urges world leaders hobble climate change...\n",
       "11444    RT wef This major Canadian river dried four da...\n",
       "1237     RT PaulHindley Sorry Paul Nuttall working clas...\n",
       "7308     Well stop climate change Trump proposes steep ...\n",
       "7146     GRIMACHU tactics creationism climate change de...\n",
       "15430    RonaldRothhaas weatherchannel There actual evi...\n",
       "7073     Politico reports DOE staff discouraged mention...\n",
       "1801     RT npennino degrees middle January pouring rai...\n",
       "10309    Trump really doesnt want face kids climate cha...\n",
       "9636     RT CNN No snow Bleached anemones Cracks ice Th...\n",
       "7065     RT PolitiBunny You proved point climate change...\n",
       "4024     RT anartdecodiva “ Another reason worried clim...\n",
       "1355     RT funder So hot Phoenix grounded flights—but ...\n",
       "979      RT iansomerhalder Speaking climate changeTONIG...\n",
       "3846     RT realDonaldTrump Its freezing outside hell g...\n",
       "6118     Dealing ♋ cancer late night bothers yung thot ...\n",
       "6945     global warming aint real explain club penguin ...\n",
       "                               ...                        \n",
       "6420     RT oalikacosmetics I call global warming Ã°Å¸Å...\n",
       "5051     RT tylerabbett jacobahernz climate change natu...\n",
       "5311     RT SEIclimate The world ’ oceans storing amoun...\n",
       "2433     RT ClimateHome ‘ Shell knew ’ oil giants film ...\n",
       "6949           gtgt gtLiberals think Summer global warming\n",
       "15773    RT kelseyistrash RT believe global warming cru...\n",
       "13803    RT climatehawk Fighting freshwater amid climat...\n",
       "10583    RT davessidekick rtoday always wheels climate ...\n",
       "769                       Some lovely global warming today\n",
       "15668    richardmskinner BenjySarlin climate change vie...\n",
       "1685     Gentle reminder Donald Trump thinks climate ch...\n",
       "8322     RT IISuperwomanII My parents clearly know EVER...\n",
       "11111                           Love global warming urlweb\n",
       "11363    RT octaehpus TeamD global warming isnt real go...\n",
       "11636    TrumpÃ¢â‚¬â „ ¢s win deadly threat stopping cl...\n",
       "14423    RT climatechangetp Before Flood Leonardo DiCap...\n",
       "5578        But ALLLLLL mean global warming real �� urlweb\n",
       "4426     How climate change could alter environment yea...\n",
       "13526    RT mitchellvii Isnt ironic every single soluti...\n",
       "466      RT Greenpeace The best way protect coral reef ...\n",
       "6265     RT businessinsider Trump sign order Tuesday di...\n",
       "5734     RT PurvaVariyar Shocking procedural flaws plag...\n",
       "11284    RT nichellezinck I dont understand people thin...\n",
       "11964    RT tan Crony capitalistbillionaire Musk wants ...\n",
       "5191     RT NYTNational Trump called climate change hoa...\n",
       "13418    RT safeagain Russias oil gas industry flourish...\n",
       "5390     RT businessinsider A climate change skeptic le...\n",
       "860      RT BramnessEllen We need tap science base enab...\n",
       "15795    China ’ coal use drops showing commitment clim...\n",
       "7270     RT ClimateCentral seconds More countries A lot...\n",
       "Name: message, Length: 12655, dtype: object"
      ]
     },
     "execution_count": 49,
     "metadata": {},
     "output_type": "execute_result"
    }
   ],
   "source": [
    "X_train"
   ]
  },
  {
   "cell_type": "code",
   "execution_count": 50,
   "metadata": {},
   "outputs": [],
   "source": [
    "# count vectorization which builds a dictionary of features\n",
    "from sklearn.feature_extraction.text import CountVectorizer\n",
    "count_vect = CountVectorizer()\n",
    "X_train_counts = count_vect.fit_transform(X_train)"
   ]
  },
  {
   "cell_type": "code",
   "execution_count": 51,
   "metadata": {},
   "outputs": [
    {
     "data": {
      "text/plain": [
       "<12655x20925 sparse matrix of type '<class 'numpy.int64'>'\n",
       "\twith 156867 stored elements in Compressed Sparse Row format>"
      ]
     },
     "execution_count": 51,
     "metadata": {},
     "output_type": "execute_result"
    }
   ],
   "source": [
    "X_train_counts"
   ]
  },
  {
   "cell_type": "code",
   "execution_count": 52,
   "metadata": {},
   "outputs": [],
   "source": [
    "from sklearn.feature_extraction.text import TfidfTransformer\n",
    "tfidf_transformer = TfidfTransformer()\n",
    "X_train_tfidf = tfidf_transformer.fit_transform(X_train_counts)"
   ]
  },
  {
   "cell_type": "code",
   "execution_count": 36,
   "metadata": {},
   "outputs": [],
   "source": [
    "from sklearn.feature_extraction.text import TfidfVectorizer\n",
    "vectorizer = TfidfVectorizer()\n",
    "X_train_tfidf = vectorizer.fit_transform(X_train)"
   ]
  },
  {
   "cell_type": "code",
   "execution_count": 54,
   "metadata": {},
   "outputs": [
    {
     "data": {
      "text/plain": [
       "(12655, 20925)"
      ]
     },
     "execution_count": 54,
     "metadata": {},
     "output_type": "execute_result"
    }
   ],
   "source": [
    "X_train_tfidf.shape"
   ]
  },
  {
   "cell_type": "code",
   "execution_count": 37,
   "metadata": {},
   "outputs": [
    {
     "data": {
      "text/plain": [
       "LinearSVC()"
      ]
     },
     "execution_count": 37,
     "metadata": {},
     "output_type": "execute_result"
    }
   ],
   "source": [
    "from sklearn.svm import LinearSVC\n",
    "clf = LinearSVC()\n",
    "clf.fit(X_train_tfidf,y_train)"
   ]
  },
  {
   "cell_type": "code",
   "execution_count": 38,
   "metadata": {},
   "outputs": [
    {
     "data": {
      "text/plain": [
       "Pipeline(steps=[('tfidf', TfidfVectorizer()), ('clf', LinearSVC())])"
      ]
     },
     "execution_count": 38,
     "metadata": {},
     "output_type": "execute_result"
    }
   ],
   "source": [
    "from sklearn.pipeline import Pipeline\n",
    "text_clf = Pipeline([('tfidf',TfidfVectorizer()),('clf',LinearSVC())])\n",
    "text_clf.fit(X_train,y_train)"
   ]
  },
  {
   "cell_type": "code",
   "execution_count": 39,
   "metadata": {},
   "outputs": [],
   "source": [
    "predictions = text_clf.predict(X_test)"
   ]
  },
  {
   "cell_type": "code",
   "execution_count": 40,
   "metadata": {},
   "outputs": [
    {
     "name": "stdout",
     "output_type": "stream",
     "text": [
      "[[ 130   36  100   12]\n",
      " [  22  185  184   34]\n",
      " [  26   86 1488  155]\n",
      " [   4   10  129  563]]\n",
      "              precision    recall  f1-score   support\n",
      "\n",
      "          -1       0.71      0.47      0.57       278\n",
      "           0       0.58      0.44      0.50       425\n",
      "           1       0.78      0.85      0.81      1755\n",
      "           2       0.74      0.80      0.77       706\n",
      "\n",
      "    accuracy                           0.75      3164\n",
      "   macro avg       0.70      0.64      0.66      3164\n",
      "weighted avg       0.74      0.75      0.74      3164\n",
      "\n",
      "0.7477876106194691\n"
     ]
    }
   ],
   "source": [
    "metric_evaluation(y_test,predictions)"
   ]
  },
  {
   "cell_type": "markdown",
   "metadata": {},
   "source": [
    "# unseen"
   ]
  },
  {
   "cell_type": "code",
   "execution_count": 41,
   "metadata": {},
   "outputs": [],
   "source": [
    "unseen = test.copy()\n",
    "unseen = remove_urls(unseen)\n",
    "unseen['message'] = unseen['message'].apply(remove_punctuation_numbers)\n",
    "unseen['message'] = unseen['message'].apply(removing_stopwords)"
   ]
  },
  {
   "cell_type": "code",
   "execution_count": 42,
   "metadata": {},
   "outputs": [],
   "source": [
    "predict_unseen = text_clf.predict(unseen['message'])"
   ]
  },
  {
   "cell_type": "code",
   "execution_count": 43,
   "metadata": {},
   "outputs": [],
   "source": [
    "results = pd.DataFrame()"
   ]
  },
  {
   "cell_type": "code",
   "execution_count": 44,
   "metadata": {},
   "outputs": [],
   "source": [
    "results['tweetid'] = test['tweetid']\n",
    "results['sentiment'] = predict_unseen\n",
    "results.reset_index(drop=True,inplace=True)"
   ]
  },
  {
   "cell_type": "code",
   "execution_count": 45,
   "metadata": {},
   "outputs": [
    {
     "data": {
      "text/plain": [
       "10546"
      ]
     },
     "execution_count": 45,
     "metadata": {},
     "output_type": "execute_result"
    }
   ],
   "source": [
    "results.to_csv(r\"resultsLinear.csv\",sep=',',index=False)\n",
    "len(results)"
   ]
  },
  {
   "cell_type": "code",
   "execution_count": 66,
   "metadata": {},
   "outputs": [
    {
     "name": "stdout",
     "output_type": "stream",
     "text": [
      "51       RT @StephenSchlegel: she's thinking about how ...\n",
      "70       RT @kelkulus: Irony: Florida, a state in dange...\n",
      "98       RT @StephenSchlegel: she's thinking about how ...\n",
      "112      RT @SenSanders: We have a president-elect who ...\n",
      "122      RT @StephenSchlegel: she's thinking about how ...\n",
      "123      RT @SethMacFarlane: HRC proposes installing ha...\n",
      "142      RT @StephenSchlegel: she's thinking about how ...\n",
      "184      RT @StephenSchlegel: she's thinking about how ...\n",
      "224      RT @StephenSchlegel: she's thinking about how ...\n",
      "240      RT @StephenSchlegel: she's thinking about how ...\n",
      "246      RT @SenSanders: We have a president-elect who ...\n",
      "257      RT @BernieSanders: #ImVotingBecause the future...\n",
      "269      RT @CounterMoonbat: The people who predicted p...\n",
      "317      RT @SenSanders: We have a president-elect who ...\n",
      "346      RT @NatGeoChannel: Watch #BeforeTheFlood right...\n",
      "363      RT @SenSanders: We have a president-elect who ...\n",
      "392      RT @NatGeoChannel: Watch #BeforeTheFlood right...\n",
      "408      RT @StephenSchlegel: she's thinking about how ...\n",
      "415      RT @SenSanders: We have a president-elect who ...\n",
      "431      RT @CounterMoonbat: The people who predicted p...\n",
      "437      RT @StephenSchlegel: she's thinking about how ...\n",
      "452      RT @SenSanders: We have a president-elect who ...\n",
      "497      RT @Fusion: America is about to become the onl...\n",
      "509      RT @NatGeoChannel: Watch #BeforeTheFlood right...\n",
      "518      RT @StephenSchlegel: she's thinking about how ...\n",
      "521      RT @StephenSchlegel: she's thinking about how ...\n",
      "603      RT @StephenSchlegel: she's thinking about how ...\n",
      "622      RT @BernieSanders: #ImVotingBecause the future...\n",
      "657      RT @SenSanders: We have a president-elect who ...\n",
      "660      RT @realDonaldTrump: The concept of global war...\n",
      "                               ...                        \n",
      "15541    RT @People4Bernie: We are all Zach: 'You and y...\n",
      "15545    RT @Jamienzherald: The Indy's front page is un...\n",
      "15546    RT @BraddJaffy: 'You and your friends will die...\n",
      "15567    RT @StephenSchlegel: she's thinking about how ...\n",
      "15568    RT @realDonaldTrump: It's freezing outside, wh...\n",
      "15570    RT @StephenSchlegel: she's thinking about how ...\n",
      "15579    RT @palegoon: bro our next president doesn't e...\n",
      "15580    RT @ClimateReality: Gallup poll (March 2016): ...\n",
      "15585    RT @savmontano: Our president doesn't believe ...\n",
      "15599    RT @NancySinatra: It's time for our leaders to...\n",
      "15621    RT @StephenSchlegel: she's thinking about how ...\n",
      "15626    RT @kurteichenwald: Russia hack deniers &amp; ...\n",
      "15652    RT @StephenSchlegel: she's thinking about how ...\n",
      "15676    RT @World_Wildlife: Irresponsible food product...\n",
      "15690    RT @ddlovato: #IVotedBecause I believe in equa...\n",
      "15706    RT @BernieSanders: 'The concept of global warm...\n",
      "15707    RT @StephenSchlegel: she's thinking about how ...\n",
      "15716    RT @StephenSchlegel: she's thinking about how ...\n",
      "15717    RT @patagonia: If our elected leaders fail to ...\n",
      "15719    RT @SethMacFarlane: Are we looking at an Ameri...\n",
      "15726    RT @GlblCtzn: Want to help help fight climate ...\n",
      "15741    RT @BernieSanders: 'The concept of global warm...\n",
      "15747    RT @1followernodad: parent: I'd do anything fo...\n",
      "15752    RT @WhiteHouse: .@POTUS on how acting to comba...\n",
      "15774    RT @ajplus: Is this deal to fight climate chan...\n",
      "15781    RT @StephenSchlegel: she's thinking about how ...\n",
      "15799    RT @SethMacFarlane: HRC proposes installing ha...\n",
      "15801    RT @SenSanders: On virtually every major issue...\n",
      "15811    RT @StephenSchlegel: she's thinking about how ...\n",
      "15815    RT @washingtonpost: How climate change could b...\n",
      "Name: message, Length: 1590, dtype: object\n"
     ]
    }
   ],
   "source": [
    "# Find a duplicate rows\n",
    "b = train['message']\n",
    "duplicateDFRow = b[b.duplicated()]\n",
    "print(duplicateDFRow)"
   ]
  },
  {
   "cell_type": "code",
   "execution_count": null,
   "metadata": {},
   "outputs": [],
   "source": []
  }
 ],
 "metadata": {
  "kernelspec": {
   "display_name": "Python 3",
   "language": "python",
   "name": "python3"
  },
  "language_info": {
   "codemirror_mode": {
    "name": "ipython",
    "version": 3
   },
   "file_extension": ".py",
   "mimetype": "text/x-python",
   "name": "python",
   "nbconvert_exporter": "python",
   "pygments_lexer": "ipython3",
   "version": "3.7.7"
  }
 },
 "nbformat": 4,
 "nbformat_minor": 4
}
